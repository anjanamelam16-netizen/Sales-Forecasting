{
 "cells": [
  {
   "cell_type": "code",
   "execution_count": null,
   "id": "8bcdbde6-7e8f-4142-b1e1-4cd2ba040c95",
   "metadata": {},
   "outputs": [],
   "source": [
    "import openpyxl\n",
    "import pandas as pd\n",
    "import matplotlib.pyplot as plt\n",
    "import seaborn as sns\n",
    "import random\n",
    "import holidays\n",
    "from prophet import Prophet\n",
    "from statsmodels.tsa.seasonal import seasonal_decompose\n",
    "from sklearn.metrics import mean_absolute_percentage_error\n",
    "from sklearn.model_selection import ParameterGrid\n",
    "from prophet.plot import plot_plotly, plot_components_plotly\n",
    "import plotly.graph_objects as go"
   ]
  },
  {
   "cell_type": "code",
   "execution_count": null,
   "id": "4aa5b7e5-87f9-43e1-87f0-dc590e924760",
   "metadata": {},
   "outputs": [],
   "source": [
    "df = pd.read_excel(f\"Groceries_Sales.xlsx\",index_col=0)\n",
    "fig, ax = plt.subplots(figsize=(20,7))\n",
    "a = sns.lineplot(x=\"Date\", y=\"Sales\", data=df)\n",
    "a.set_title(\"Daily Sales Data\",fontsize=15)\n",
    "plt.show()"
   ]
  },
  {
   "cell_type": "code",
   "execution_count": null,
   "id": "a91b61ca-0500-4c6d-9d91-2c7a621295cf",
   "metadata": {},
   "outputs": [],
   "source": [
    "def visualize_data(df):\n",
    "    result_multiplicative = seasonal_decompose(df, model='multiplicative', period=1)\n",
    "    result_multiplicative.plot()\n",
    "    plt.show()\n",
    "\n",
    "    result_additive = seasonal_decompose(df, model='additive', period=1)\n",
    "    result_additive.plot()\n",
    "    plt.show()\n",
    "    \n",
    "visualize_data(df)"
   ]
  },
  {
   "cell_type": "code",
   "execution_count": null,
   "id": "bec90a7b-4a5a-4b37-a2a1-75e8e4c0cc7b",
   "metadata": {},
   "outputs": [],
   "source": [
    "df.index = pd.to_datetime(df.index)\n",
    "def setting_up_data(df):\n",
    "    sales = df[\"Sales\"]\n",
    "    sales.name = \"Sales\"\n",
    "    seasonal_data = sales.to_frame()\n",
    "    seasonal_data[\"trend\"] = seasonal_data[\"Sales\"].rolling(window=7, center=True).mean()\n",
    "    seasonal_data[\"detrended\"] = seasonal_data[\"Sales\"] - seasonal_data[\"trend\"]\n",
    "    seasonal_data.index = pd.to_datetime(seasonal_data.index)\n",
    "    seasonal_data[\"month\"] = seasonal_data.index.month\n",
    "    seasonal_data[\"seasonality\"] = seasonal_data.groupby(\"month\")[\"detrended\"].transform(\"mean\")\n",
    "    seasonal_data[\"resid\"] = seasonal_data[\"detrended\"] - seasonal_data[\"seasonality\"]\n",
    "    seasonal_data.loc[:, [\"Sales\", \"trend\", \"seasonality\", \"resid\"]].plot(subplots=True, title=\"Seasonal decomposition - additive\")\n",
    "    return seasonal_data\n",
    "\n",
    "seasonal_data = setting_up_data(df)"
   ]
  },
  {
   "cell_type": "code",
   "execution_count": 7,
   "id": "570ee3e8-718a-4d83-95f6-762a59208410",
   "metadata": {},
   "outputs": [],
   "source": [
    "df=df.reset_index(\"Date\")\n",
    "def extract_data(df):\n",
    "    df_extract = df.copy()\n",
    "    df_extract['date'] = df['Date']\n",
    "    df_extract['month'] = df_extract['date'].dt.strftime('%B')\n",
    "    df_extract['year'] = df_extract['date'].dt.strftime('%Y')\n",
    "    df_extract['dayofweek'] = df_extract['date'].dt.strftime('%A')\n",
    "    df_extract['quarter'] = df_extract['date'].dt.quarter\n",
    "    df_extract['dayofyear'] = df_extract['date'].dt.dayofyear\n",
    "    df_extract['dayofmonth'] = df_extract['date'].dt.day\n",
    "    df_extract['weekofyear'] = df_extract['date'].dt.isocalendar().week\n",
    "    X = df_extract[['dayofweek','quarter','month','year',\n",
    "           'dayofyear','dayofmonth','weekofyear']]\n",
    "    y = df['Sales']\n",
    "    df_new = pd.concat([X, y], axis=1)\n",
    "    return df_new\n",
    "\n",
    "df_new = extract_data(df)"
   ]
  },
  {
   "cell_type": "code",
   "execution_count": null,
   "id": "9e6a2e7e-773a-42eb-b70b-a6e52563511d",
   "metadata": {},
   "outputs": [],
   "source": [
    "def bar_plot_data(df_new):\n",
    "    fig,(ax1,ax2)= plt.subplots(nrows=2)\n",
    "    fig.set_size_inches(7,7)\n",
    "\n",
    "    week_day_Aggregated = pd.DataFrame(df_new.groupby(\"dayofweek\")[\"Sales\"].sum()).reset_index().sort_values('Sales')\n",
    "    sns.barplot(data=week_day_Aggregated,x=\"dayofweek\",y=\"Sales\",hue = 'dayofweek',ax=ax1,dodge=False)\n",
    "    ax1.set(xlabel='dayofweek', ylabel='Total Sales received')\n",
    "    ax1.xaxis.label.set_size(8)\n",
    "    ax1.set_title(\"Total Sales received By Weekday\",fontsize=8)\n",
    "    ax1.ticklabel_format(style='plain',axis='y')\n",
    "    if ax1.get_legend() is not None:\n",
    "        ax1.legend_.remove()\n",
    "\n",
    "\n",
    "    yearAggregated = pd.DataFrame(df_new.groupby(\"year\")[\"Sales\"].sum()).reset_index()\n",
    "    sns.barplot(data=yearAggregated,x=\"year\",y=\"Sales\",hue='year',ax=ax2)\n",
    "    ax2.set(xlabel='year', ylabel='Total Sales received')\n",
    "    ax2.xaxis.label.set_size(8)\n",
    "    ax2.set_title(\"Total Sales received By year\",fontsize=8)\n",
    "    ax2.ticklabel_format(style='plain',axis='y')\n",
    "\n",
    "    fig.tight_layout()\n",
    "\n",
    "bar_plot_data(df_new)"
   ]
  },
  {
   "cell_type": "code",
   "execution_count": 9,
   "id": "997186cc",
   "metadata": {},
   "outputs": [],
   "source": [
    "df=df.rename(columns={'Date':'ds','Sales':'y'})\n",
    "end_date = '2019-12-31'\n",
    "df_train = df.loc[df['ds'] <= end_date]\n",
    "df_test = df.loc[df['ds'] > end_date]"
   ]
  },
  {
   "cell_type": "code",
   "execution_count": null,
   "id": "761c9947-ebc5-4a25-a809-5c3c2c2d5a6c",
   "metadata": {},
   "outputs": [],
   "source": [
    "pd.plotting.register_matplotlib_converters()\n",
    "f, ax = plt.subplots(figsize=(14,5))\n",
    "df_train.plot(kind='line', x='ds', y='y', color='blue', label='Train', ax=ax)\n",
    "df_test.plot(kind='line', x='ds', y='y', color='red', label='Test', ax=ax)\n",
    "plt.title('Sales Amount Traning and Test data')\n",
    "plt.show()"
   ]
  },
  {
   "cell_type": "code",
   "execution_count": null,
   "id": "fd77b588-06f9-431e-8bd9-6246b90cf61f",
   "metadata": {},
   "outputs": [],
   "source": [
    "def model_Prophet(df_train, df_test):\n",
    "    model =Prophet()\n",
    "    model.fit(df_train)\n",
    "\n",
    "    future = model.make_future_dataframe(periods=60)\n",
    "    forecast = model.predict(future)\n",
    "\n",
    "    df_test_forecast = model.predict(df_test)\n",
    "    mape = mean_absolute_percentage_error(df_test['y'],df_test_forecast['yhat'])\n",
    "    print(mape)\n",
    "    return model, forecast, df_test_forecast\n",
    "\n",
    "model, forecast, df_test_forecast = model_Prophet(df_train, df_test)"
   ]
  },
  {
   "cell_type": "code",
   "execution_count": null,
   "id": "b3dc449e-8b02-46c3-ab93-1c484dc9fb1b",
   "metadata": {},
   "outputs": [],
   "source": [
    "def plot_forecast(df_x, df_y, title):\n",
    "    f, ax = plt.subplots(figsize=(14,5))\n",
    "    f.set_figheight(5)\n",
    "    f.set_figwidth(15)\n",
    "    df_x.plot(kind='line',x='ds', y='y', color='red', label='Test', ax=ax)\n",
    "    df_y.plot(kind='line',x='ds',y='yhat', color='blue',label='Forecast', ax=ax)\n",
    "    plt.title(title)\n",
    "    plt.show()\n",
    "\n",
    "plot_forecast(df_test, df_test_forecast, 'February 2020 Forecast vs Actuals')"
   ]
  },
  {
   "cell_type": "code",
   "execution_count": null,
   "id": "7e7a820e",
   "metadata": {},
   "outputs": [],
   "source": [
    "def model_holidays(df_train, df_test):\n",
    "    india_holidays = holidays.India(years = 2018)\n",
    "    holiday_india_df = pd.DataFrame([])\n",
    "    for date, name in sorted(india_holidays.items()):\n",
    "        holiday_india_df = pd.concat([holiday_india_df, pd.DataFrame({'ds': [date], 'holiday': [name]})], \n",
    "                                    ignore_index=True)\n",
    "    model_with_holidays = Prophet(holidays=holiday_india_df)\n",
    "    model_with_holidays.fit(df_train)\n",
    "    future_holiday = model_with_holidays.make_future_dataframe(periods=57, freq='D')\n",
    "    forecast_holiday = model_with_holidays.predict(future_holiday)\n",
    "    df_test_forecast_holiday = model_with_holidays.predict(df_test)\n",
    "    mape_holiday = mean_absolute_percentage_error(df_test['y'],df_test_forecast_holiday['yhat'])\n",
    "    return holiday_india_df, df_test_forecast_holiday, mape_holiday\n",
    "\n",
    "holiday_india_df, df_test_forecast_holiday, mape_holiday = model_holidays(df_train, df_test)\n",
    "plot_forecast(df_test, df_test_forecast_holiday, 'Jan & Feb 2020 Forecast vs Actuals')"
   ]
  },
  {
   "cell_type": "code",
   "execution_count": 14,
   "id": "179c98c3-a883-44cf-a6de-a0790bf7b02e",
   "metadata": {},
   "outputs": [],
   "source": [
    "params_grid = {'seasonality_mode':('multiplicative','additive'),\n",
    "               'changepoint_prior_scale':[0.1,0.2,0.3],\n",
    "              'holidays_prior_scale':[0.1,0.2,0.3],\n",
    "              'n_changepoints' : [100,150]}\n",
    "grid = ParameterGrid(params_grid)\n",
    "cnt = 0\n",
    "for p in grid:\n",
    "    cnt = cnt+1"
   ]
  },
  {
   "cell_type": "code",
   "execution_count": null,
   "id": "cffaa660-9a13-4dad-8885-c8d81f4fb358",
   "metadata": {},
   "outputs": [],
   "source": [
    "%%timeit\n",
    "strt='2019-12-31'\n",
    "end='2020-02-26'\n",
    "model_parameters = pd.DataFrame(columns = ['MAPE','Parameters'])\n",
    "for p in grid:\n",
    "    test = pd.DataFrame()\n",
    "    random.seed(0)\n",
    "    train_model =Prophet(changepoint_prior_scale = p['changepoint_prior_scale'],\n",
    "                         holidays_prior_scale = p['holidays_prior_scale'],\n",
    "                         n_changepoints = p['n_changepoints'],\n",
    "                         seasonality_mode = p['seasonality_mode'],\n",
    "                         weekly_seasonality=True,\n",
    "                         daily_seasonality = True,\n",
    "                         yearly_seasonality = True,\n",
    "                         holidays=holiday_india_df, \n",
    "                         interval_width=0.95)\n",
    "    train_model.add_country_holidays(country_name='US')\n",
    "    train_model.fit(df_train)\n",
    "    train_forecast = train_model.make_future_dataframe(periods=57, freq='D',include_history = False)\n",
    "    train_forecast = train_model.predict(train_forecast)\n",
    "    test=train_forecast[['ds','yhat']]\n",
    "    Actual = df[(df['ds']>strt) & (df['ds']<=end)]\n",
    "    MAPE = mean_absolute_percentage_error(Actual['y'],abs(test['yhat']))\n",
    "    print('Mean Absolute Percentage Error(MAPE)------------------------------------',MAPE)\n",
    "    model_parameters = pd.concat([model_parameters, pd.DataFrame({'MAPE':MAPE,'Parameters':p})], \n",
    "                                    ignore_index=True)\n",
    "\n",
    "parameters = model_parameters.sort_values(by=['MAPE'])\n",
    "parameters = parameters.reset_index(drop=True)"
   ]
  },
  {
   "cell_type": "code",
   "execution_count": null,
   "id": "46a64a16-9c41-4109-b4e8-dfaed4d76459",
   "metadata": {},
   "outputs": [],
   "source": [
    "def final_prophet(holiday_india_df, df_train, df_test):\n",
    "    final_model = Prophet(holidays=holiday_india_df,\n",
    "                        changepoint_prior_scale= 0.1,\n",
    "                        holidays_prior_scale = 0.2,\n",
    "                        n_changepoints = 100,\n",
    "                        seasonality_mode = 'multiplicative',\n",
    "                        weekly_seasonality=True,\n",
    "                        daily_seasonality = True,\n",
    "                        yearly_seasonality = True,\n",
    "                        interval_width=0.95)\n",
    "    final_model.add_country_holidays(country_name='IN')\n",
    "    final_model.fit(df_train)\n",
    "    future = final_model.make_future_dataframe(periods=122, freq='D')\n",
    "    forecast = final_model.predict(future)\n",
    "    fig =final_model.plot_components(forecast)\n",
    "    plot_components_plotly(final_model,forecast)\n",
    "    df_test_final= final_model.predict(df_test)\n",
    "    mape_final = mean_absolute_percentage_error(df_test['y'],abs(df_test_final['yhat']))\n",
    "    plot_forecast(df_test, df_test_final, 'Jan & Feb 2020 Forecast vs Actuals')\n",
    "    df_train['y'].plot(x='ds', legend=True, label='TRAIN')\n",
    "    df_test['y'].plot(x='ds', legend=True, label='TRAIN')\n",
    "    df_train.set_index('ds').plot(legend=True,label='TRAIN')\n",
    "    # df_test['ds'].plot(y='y', legend=True,label='TEST')\n",
    "    plt.show()\n",
    "    return final_model, mape_final\n",
    "\n",
    "final_model, mape_final = final_prophet(holiday_india_df, df_train, df_test)"
   ]
  },
  {
   "cell_type": "code",
   "execution_count": null,
   "id": "fcfda0a7-53f2-4b56-b0ac-5b287660696c",
   "metadata": {},
   "outputs": [],
   "source": [
    "sns.lineplot(x=df_train['ds'], y=df_train['y'])\n",
    "sns.lineplot(x=df_test['ds'], y=df_test['y'])\n",
    "sns.lineplot(x=forecast['ds'], y=forecast['yhat'])\n",
    "\n",
    "plt.legend(['train','test'],\n",
    "            loc='upper left')\n",
    "sns.set_theme(rc={'figure.figsize': (8.27, 11.7)})\n"
   ]
  }
 ],
 "metadata": {
  "kernelspec": {
   "display_name": "Python 3 (ipykernel)",
   "language": "python",
   "name": "python3"
  },
  "language_info": {
   "codemirror_mode": {
    "name": "ipython",
    "version": 3
   },
   "file_extension": ".py",
   "mimetype": "text/x-python",
   "name": "python",
   "nbconvert_exporter": "python",
   "pygments_lexer": "ipython3",
   "version": "3.9.7"
  }
 },
 "nbformat": 4,
 "nbformat_minor": 5
}
